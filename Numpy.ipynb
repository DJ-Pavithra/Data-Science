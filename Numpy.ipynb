{
  "nbformat": 4,
  "nbformat_minor": 0,
  "metadata": {
    "colab": {
      "provenance": []
    },
    "kernelspec": {
      "name": "python3",
      "display_name": "Python 3"
    },
    "language_info": {
      "name": "python"
    }
  },
  "cells": [
    {
      "cell_type": "markdown",
      "source": [
        "For maths operations"
      ],
      "metadata": {
        "id": "fD10JD-YZ1VO"
      }
    },
    {
      "cell_type": "code",
      "execution_count": 1,
      "metadata": {
        "id": "dug5H35JS81v"
      },
      "outputs": [],
      "source": [
        "import numpy as np"
      ]
    },
    {
      "cell_type": "code",
      "source": [
        "a=np.array([1,2,3,4,5])\n",
        "print(a)\n",
        "print(type(a))\n",
        "\n",
        "print(a.shape)"
      ],
      "metadata": {
        "colab": {
          "base_uri": "https://localhost:8080/"
        },
        "id": "665uApr1cBCk",
        "outputId": "7da8289b-5f61-49cd-c555-39766dbadcac"
      },
      "execution_count": 2,
      "outputs": [
        {
          "output_type": "stream",
          "name": "stdout",
          "text": [
            "[1 2 3 4 5]\n",
            "<class 'numpy.ndarray'>\n",
            "(5,)\n"
          ]
        }
      ]
    },
    {
      "cell_type": "code",
      "source": [
        "a=np.array([[1,2,3,4,5],[5,4,3,2,1]])\n",
        "print(a)\n",
        "print(type(a))\n",
        "\n",
        "print(a.shape)"
      ],
      "metadata": {
        "colab": {
          "base_uri": "https://localhost:8080/"
        },
        "id": "v_jEnteIcLSF",
        "outputId": "0251de1d-8ad8-47ab-c316-a3f6610b61d9"
      },
      "execution_count": 4,
      "outputs": [
        {
          "output_type": "stream",
          "name": "stdout",
          "text": [
            "[[1 2 3 4 5]\n",
            " [5 4 3 2 1]]\n",
            "<class 'numpy.ndarray'>\n",
            "(2, 5)\n"
          ]
        }
      ]
    },
    {
      "cell_type": "code",
      "source": [
        "# code for zero,one and constant array\n",
        "zero_array = np.zeros((2,3))\n",
        "print(\"Zero Array:\")\n",
        "print(zero_array)\n",
        "\n",
        "one_array = np.ones((3,2))\n",
        "print(\"\\nOne Array:\")\n",
        "print(one_array)\n",
        "\n",
        "constant_array = np.full((2,2), 7)\n",
        "print(\"\\nConstant Array:\")\n",
        "print(constant_array)\n",
        "\n",
        "identity_matric = np.eye(4)\n",
        "print(\"\\nidentity_matric\")\n",
        "print(identity_matric)\n",
        "\n",
        "\n",
        "random_matric = np.random.random((2,3))\n",
        "print(\"\\nrandom_matric\")\n",
        "print(random_matric)"
      ],
      "metadata": {
        "colab": {
          "base_uri": "https://localhost:8080/"
        },
        "id": "-iDfiGufcYHB",
        "outputId": "f4cc2040-7623-4dc4-a38b-896dfb09749c"
      },
      "execution_count": 8,
      "outputs": [
        {
          "output_type": "stream",
          "name": "stdout",
          "text": [
            "Zero Array:\n",
            "[[0. 0. 0.]\n",
            " [0. 0. 0.]]\n",
            "\n",
            "One Array:\n",
            "[[1. 1.]\n",
            " [1. 1.]\n",
            " [1. 1.]]\n",
            "\n",
            "Constant Array:\n",
            "[[7 7]\n",
            " [7 7]]\n",
            "\n",
            "identity_matric\n",
            "[[1. 0. 0. 0.]\n",
            " [0. 1. 0. 0.]\n",
            " [0. 0. 1. 0.]\n",
            " [0. 0. 0. 1.]]\n",
            "\n",
            "random_matric\n",
            "[[0.86519642 0.36256479 0.87304271]\n",
            " [0.36210654 0.05140412 0.84450254]]\n"
          ]
        }
      ]
    },
    {
      "cell_type": "code",
      "source": [
        "print(random_matric[:,1])\n",
        "print(random_matric[1,:])"
      ],
      "metadata": {
        "colab": {
          "base_uri": "https://localhost:8080/"
        },
        "id": "R8wRodWOc7jt",
        "outputId": "8c311b26-afa6-45f7-f8d0-f8c4bfea6d11"
      },
      "execution_count": 10,
      "outputs": [
        {
          "output_type": "stream",
          "name": "stdout",
          "text": [
            "[0.36256479 0.05140412]\n",
            "[0.36210654 0.05140412 0.84450254]\n"
          ]
        }
      ]
    },
    {
      "cell_type": "code",
      "source": [
        "# code for array slicing\n",
        "a = np.array([[1,2,3,4,5],[6,7,8,9,10],[11,12,13,14,15]])\n",
        "print(\"Original array:\")\n",
        "print(a)\n",
        "\n",
        "# Slice the array to get the first two rows and columns 1 to 3 (inclusive of 1, exclusive of 3)\n",
        "sliced_array = a[:2, 1:3]\n",
        "print(\"\\nSliced array (first two rows, columns 1-2):\")\n",
        "print(sliced_array)\n",
        "\n",
        "# Slice the array to get all rows and the last column\n",
        "last_column = a[:, -1]\n",
        "print(\"\\nLast column of the array:\")\n",
        "print(last_column)\n",
        "\n",
        "# Slice the array to get the last row and all columns\n",
        "last_row = a[-1, :]\n",
        "print(\"\\nLast row of the array:\")\n",
        "print(last_row)"
      ],
      "metadata": {
        "colab": {
          "base_uri": "https://localhost:8080/"
        },
        "id": "IwleE1XudyG5",
        "outputId": "e38d72fe-b398-4653-be6b-def3131614ab"
      },
      "execution_count": 11,
      "outputs": [
        {
          "output_type": "stream",
          "name": "stdout",
          "text": [
            "Original array:\n",
            "[[ 1  2  3  4  5]\n",
            " [ 6  7  8  9 10]\n",
            " [11 12 13 14 15]]\n",
            "\n",
            "Sliced array (first two rows, columns 1-2):\n",
            "[[2 3]\n",
            " [7 8]]\n",
            "\n",
            "Last column of the array:\n",
            "[ 5 10 15]\n",
            "\n",
            "Last row of the array:\n",
            "[11 12 13 14 15]\n"
          ]
        }
      ]
    },
    {
      "cell_type": "code",
      "source": [
        "# maths operations using arrays in numpy\n",
        "\n",
        "# Create two sample arrays\n",
        "array1 = np.array([[1, 2], [3, 4]])\n",
        "array2 = np.array([[5, 6], [7, 8]])\n",
        "\n",
        "print(\"Array 1:\")\n",
        "print(array1)\n",
        "print(\"\\nArray 2:\")\n",
        "print(array2)\n",
        "\n",
        "# Addition\n",
        "addition_result = array1 + array2\n",
        "print(\"\\nAddition:\")\n",
        "print(addition_result)\n",
        "\n",
        "# Subtraction\n",
        "subtraction_result = array1 - array2\n",
        "print(\"\\nSubtraction:\")\n",
        "print(subtraction_result)\n",
        "\n",
        "# Multiplication (element-wise)\n",
        "multiplication_result = array1 * array2\n",
        "print(\"\\nElement-wise Multiplication:\")\n",
        "print(multiplication_result)\n",
        "\n",
        "# Division (element-wise)\n",
        "division_result = array1 / array2\n",
        "print(\"\\nElement-wise Division:\")\n",
        "print(division_result)\n",
        "\n",
        "# Dot product (matrix multiplication)\n",
        "dot_product_result = np.dot(array1, array2)\n",
        "print(\"\\nDot Product (Matrix Multiplication):\")\n",
        "print(dot_product_result)"
      ],
      "metadata": {
        "colab": {
          "base_uri": "https://localhost:8080/"
        },
        "id": "dtzQXBJ7eU0m",
        "outputId": "39fc7e06-f083-42d3-c56d-0cf7057baeaa"
      },
      "execution_count": 12,
      "outputs": [
        {
          "output_type": "stream",
          "name": "stdout",
          "text": [
            "Array 1:\n",
            "[[1 2]\n",
            " [3 4]]\n",
            "\n",
            "Array 2:\n",
            "[[5 6]\n",
            " [7 8]]\n",
            "\n",
            "Addition:\n",
            "[[ 6  8]\n",
            " [10 12]]\n",
            "\n",
            "Subtraction:\n",
            "[[-4 -4]\n",
            " [-4 -4]]\n",
            "\n",
            "Element-wise Multiplication:\n",
            "[[ 5 12]\n",
            " [21 32]]\n",
            "\n",
            "Element-wise Division:\n",
            "[[0.2        0.33333333]\n",
            " [0.42857143 0.5       ]]\n",
            "\n",
            "Dot Product (Matrix Multiplication):\n",
            "[[19 22]\n",
            " [43 50]]\n"
          ]
        }
      ]
    },
    {
      "cell_type": "code",
      "source": [
        "# Stacking of 2 arrays in numpy\n",
        "\n",
        "# Create two sample arrays\n",
        "array1 = np.array([1, 2, 3])\n",
        "array2 = np.array([4, 5, 6])\n",
        "\n",
        "print(\"Array 1:\")\n",
        "print(array1)\n",
        "print(\"\\nArray 2:\")\n",
        "print(array2)\n",
        "\n",
        "# Vertical stacking\n",
        "vertical_stack = np.vstack((array1, array2))\n",
        "print(\"\\nVertical Stack:\")\n",
        "print(vertical_stack)\n",
        "\n",
        "# Horizontal stacking\n",
        "horizontal_stack = np.hstack((array1, array2))\n",
        "print(\"\\nHorizontal Stack:\")\n",
        "print(horizontal_stack)"
      ],
      "metadata": {
        "colab": {
          "base_uri": "https://localhost:8080/"
        },
        "id": "6rtYFwcQenBQ",
        "outputId": "60402c7b-6ed4-4797-ed5e-71e77fbecda1"
      },
      "execution_count": 13,
      "outputs": [
        {
          "output_type": "stream",
          "name": "stdout",
          "text": [
            "Array 1:\n",
            "[1 2 3]\n",
            "\n",
            "Array 2:\n",
            "[4 5 6]\n",
            "\n",
            "Vertical Stack:\n",
            "[[1 2 3]\n",
            " [4 5 6]]\n",
            "\n",
            "Horizontal Stack:\n",
            "[1 2 3 4 5 6]\n"
          ]
        }
      ]
    },
    {
      "cell_type": "code",
      "source": [
        "# Reshape function in numpy\n",
        "\n",
        "# Create a sample array\n",
        "array = np.array([1, 2, 3, 4, 5, 6, 7, 8, 9, 10, 11, 12])\n",
        "print(\"Original array:\")\n",
        "print(array)\n",
        "print(\"Original shape:\", array.shape)\n",
        "\n",
        "# Reshape the array into a 3x4 matrix\n",
        "reshaped_array = array.reshape((3, 4))\n",
        "print(\"\\nReshaped array (3x4):\")\n",
        "print(reshaped_array)\n",
        "print(\"Reshaped shape:\", reshaped_array.shape)\n",
        "\n",
        "# Using -1 in reshape to automatically determine one dimension\n",
        "reshaped_array_4 = array.reshape((3, -1))\n",
        "print(\"\\nReshaped array (3x?):\")\n",
        "print(reshaped_array_4)\n",
        "print(\"Reshaped shape:\", reshaped_array_4.shape)\n",
        "\n",
        "reshaped_array_5 = array.reshape((-1, 4))\n",
        "print(\"\\nReshaped array (?x4):\")\n",
        "print(reshaped_array_5)\n",
        "print(\"Reshaped shape:\", reshaped_array_5.shape)"
      ],
      "metadata": {
        "colab": {
          "base_uri": "https://localhost:8080/"
        },
        "collapsed": true,
        "id": "Wj2b2iDyfdD-",
        "outputId": "148252d6-e1f9-495c-d277-236eb50d8388"
      },
      "execution_count": 14,
      "outputs": [
        {
          "output_type": "stream",
          "name": "stdout",
          "text": [
            "Original array:\n",
            "[ 1  2  3  4  5  6  7  8  9 10 11 12]\n",
            "Original shape: (12,)\n",
            "\n",
            "Reshaped array (3x4):\n",
            "[[ 1  2  3  4]\n",
            " [ 5  6  7  8]\n",
            " [ 9 10 11 12]]\n",
            "Reshaped shape: (3, 4)\n",
            "\n",
            "Reshaped array (3x?):\n",
            "[[ 1  2  3  4]\n",
            " [ 5  6  7  8]\n",
            " [ 9 10 11 12]]\n",
            "Reshaped shape: (3, 4)\n",
            "\n",
            "Reshaped array (?x4):\n",
            "[[ 1  2  3  4]\n",
            " [ 5  6  7  8]\n",
            " [ 9 10 11 12]]\n",
            "Reshaped shape: (3, 4)\n"
          ]
        }
      ]
    },
    {
      "cell_type": "markdown",
      "source": [
        "Numpy Random module"
      ],
      "metadata": {
        "id": "GYYoKJOYgF8l"
      }
    },
    {
      "cell_type": "code",
      "source": [
        "# Numpy important funcitons of random module\n",
        "\n",
        "# Generate a 2x3 array of random numbers from a uniform distribution between 0 and 1\n",
        "random_uniform = np.random.rand(2, 3)\n",
        "print(\"Random array from uniform distribution (rand):\")\n",
        "print(random_uniform)\n",
        "\n",
        "# Generate a 2x3 array of random numbers from a standard normal distribution (mean 0, variance 1)\n",
        "random_normal = np.random.randn(2, 3)\n",
        "print(\"\\nRandom array from standard normal distribution (randn):\")\n",
        "print(random_normal)\n",
        "\n",
        "# Generate a 2x3 array of random integers between 0 (inclusive) and 10 (exclusive)\n",
        "random_integers = np.random.randint(0, 10, size=(2, 3))\n",
        "print(\"\\nRandom array of integers (randint):\")\n",
        "print(random_integers)\n",
        "\n",
        "# Randomly choose an element from an array\n",
        "choices = np.array([10, 20, 30, 40, 50])\n",
        "random_choice = np.random.choice(choices)\n",
        "print(\"\\nRandom choice from an array (choice):\")\n",
        "print(random_choice)\n",
        "\n",
        "# Randomly choose multiple elements from an array with replacement\n",
        "random_choices_with_replacement = np.random.choice(choices, size=3, replace=True)\n",
        "print(\"\\nRandom choices with replacement (choice, replace=True):\")\n",
        "print(random_choices_with_replacement)\n",
        "\n",
        "# Randomly choose multiple elements from an array without replacement\n",
        "# Note: size must be less than or equal to the size of the array when replace=False\n",
        "if len(choices) >= 3:\n",
        "    random_choices_without_replacement = np.random.choice(choices, size=3, replace=False)\n",
        "    print(\"\\nRandom choices without replacement (choice, replace=False):\")\n",
        "    print(random_choices_without_replacement)\n",
        "else:\n",
        "    print(\"\\nCannot perform random choices without replacement: size is larger than the array.\")\n",
        "\n",
        "# Shuffle an array in place\n",
        "array_to_shuffle = np.array([1, 2, 3, 4, 5])\n",
        "np.random.shuffle(array_to_shuffle)\n",
        "print(\"\\nShuffled array (shuffle):\")\n",
        "print(array_to_shuffle)"
      ],
      "metadata": {
        "colab": {
          "base_uri": "https://localhost:8080/"
        },
        "collapsed": true,
        "id": "tcF4iaJHgB7H",
        "outputId": "4da766cc-8725-451e-ca2e-d673760d6122"
      },
      "execution_count": 15,
      "outputs": [
        {
          "output_type": "stream",
          "name": "stdout",
          "text": [
            "Random array from uniform distribution (rand):\n",
            "[[0.23815283 0.44136754 0.95359124]\n",
            " [0.0177984  0.86860158 0.55904801]]\n",
            "\n",
            "Random array from standard normal distribution (randn):\n",
            "[[-0.42850234 -1.03520876 -0.08708199]\n",
            " [-0.32060292  0.58279033 -0.64152665]]\n",
            "\n",
            "Random array of integers (randint):\n",
            "[[6 7 3]\n",
            " [0 6 2]]\n",
            "\n",
            "Random choice from an array (choice):\n",
            "40\n",
            "\n",
            "Random choices with replacement (choice, replace=True):\n",
            "[20 20 30]\n",
            "\n",
            "Random choices without replacement (choice, replace=False):\n",
            "[50 40 30]\n",
            "\n",
            "Shuffled array (shuffle):\n",
            "[3 2 4 1 5]\n"
          ]
        }
      ]
    },
    {
      "cell_type": "code",
      "source": [
        "# simple random using seed\n",
        "\n",
        "# Set the seed for reproducibility\n",
        "np.random.seed(42)\n",
        "\n",
        "# Generate random numbers after setting the seed\n",
        "random_numbers_1 = np.random.rand(5)\n",
        "print(\"Random numbers after setting seed 42 (first call):\")\n",
        "print(random_numbers_1)\n",
        "\n",
        "# Generate more random numbers (will be different from the first set)\n",
        "random_numbers_2 = np.random.rand(5)\n",
        "print(\"\\nRandom numbers after setting seed 42 (second call):\")\n",
        "print(random_numbers_2)\n",
        "\n",
        "# Set the seed again to get the same sequence of random numbers as the first call\n",
        "np.random.seed(42)\n",
        "\n",
        "# Generate random numbers again (will be the same as random_numbers_1)\n",
        "random_numbers_3 = np.random.rand(5)\n",
        "print(\"\\nRandom numbers after setting seed 42 again:\")\n",
        "print(random_numbers_3)"
      ],
      "metadata": {
        "colab": {
          "base_uri": "https://localhost:8080/"
        },
        "id": "E-JZfWtjgpM5",
        "outputId": "dd4c9f50-e2be-47cd-b083-28438e135159"
      },
      "execution_count": 16,
      "outputs": [
        {
          "output_type": "stream",
          "name": "stdout",
          "text": [
            "Random numbers after setting seed 42 (first call):\n",
            "[0.37454012 0.95071431 0.73199394 0.59865848 0.15601864]\n",
            "\n",
            "Random numbers after setting seed 42 (second call):\n",
            "[0.15599452 0.05808361 0.86617615 0.60111501 0.70807258]\n",
            "\n",
            "Random numbers after setting seed 42 again:\n",
            "[0.37454012 0.95071431 0.73199394 0.59865848 0.15601864]\n"
          ]
        }
      ]
    },
    {
      "cell_type": "markdown",
      "source": [
        "Numpy Statistics functions"
      ],
      "metadata": {
        "id": "Y22s497Ig80Y"
      }
    },
    {
      "cell_type": "code",
      "source": [
        "# Numpy Statistics functions\n",
        "\n",
        "# Create a sample array\n",
        "array = np.array([10, 20, 30, 40, 50, 60, 70, 80, 90, 100])\n",
        "print(\"Original array:\")\n",
        "print(array)\n",
        "\n",
        "#weighted average\n",
        "weights = np.array([0.1, 0.2, 0.3, 0.4, 0.5, 0.6, 0.7, 0.8, 0.9, 1.0])\n",
        "weighted_average = np.average(array, weights=weights)\n",
        "print(\"\\nWeighted Average:\", weighted_average)\n",
        "\n",
        "# Calculate mean\n",
        "mean_value = np.mean(array)\n",
        "print(\"\\nMean:\", mean_value)\n",
        "\n",
        "# Calculate median\n",
        "median_value = np.median(array)\n",
        "print(\"Median:\", median_value)\n",
        "\n",
        "# Calculate standard deviation\n",
        "std_dev = np.std(array)\n",
        "print(\"Standard Deviation:\", std_dev)\n",
        "\n",
        "# Calculate variance\n",
        "variance_value = np.var(array)\n",
        "print(\"Variance:\", variance_value)\n",
        "\n",
        "# Find minimum value\n",
        "min_value = np.min(array)\n",
        "print(\"Minimum value:\", min_value)\n",
        "\n",
        "# Find maximum value\n",
        "max_value = np.max(array)\n",
        "print(\"Maximum value:\", max_value)\n",
        "\n",
        "# Calculate sum\n",
        "sum_value = np.sum(array)\n",
        "print(\"Sum:\", sum_value)\n",
        "\n",
        "# Calculate product\n",
        "product_value = np.prod(array)\n",
        "print(\"Product:\", product_value)"
      ],
      "metadata": {
        "colab": {
          "base_uri": "https://localhost:8080/"
        },
        "id": "Q5olxZo3g63F",
        "outputId": "147de01c-fbbd-4bea-e745-1ef81b0540b3"
      },
      "execution_count": 18,
      "outputs": [
        {
          "output_type": "stream",
          "name": "stdout",
          "text": [
            "Original array:\n",
            "[ 10  20  30  40  50  60  70  80  90 100]\n",
            "\n",
            "Weighted Average: 70.0\n",
            "\n",
            "Mean: 55.0\n",
            "Median: 55.0\n",
            "Standard Deviation: 28.722813232690143\n",
            "Variance: 825.0\n",
            "Minimum value: 10\n",
            "Maximum value: 100\n",
            "Sum: 550\n",
            "Product: 36288000000000000\n"
          ]
        }
      ]
    },
    {
      "cell_type": "code",
      "source": [],
      "metadata": {
        "id": "Cbx9_eg6hJLh"
      },
      "execution_count": null,
      "outputs": []
    }
  ]
}